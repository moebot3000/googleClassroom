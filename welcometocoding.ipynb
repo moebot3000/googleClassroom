{
  "nbformat": 4,
  "nbformat_minor": 0,
  "metadata": {
    "colab": {
      "name": "welcometocoding.ipynb",
      "provenance": [],
      "include_colab_link": true
    },
    "kernelspec": {
      "name": "python3",
      "display_name": "Python 3"
    }
  },
  "cells": [
    {
      "cell_type": "markdown",
      "metadata": {
        "id": "view-in-github",
        "colab_type": "text"
      },
      "source": [
        "<a href=\"https://colab.research.google.com/github/moebot3000/googleClassroom/blob/master/welcometocoding.ipynb\" target=\"_parent\"><img src=\"https://colab.research.google.com/assets/colab-badge.svg\" alt=\"Open In Colab\"/></a>"
      ]
    },
    {
      "cell_type": "markdown",
      "metadata": {
        "id": "hc9YTRRtB0kJ"
      },
      "source": [
        "Welcome to coding in PYTHON.\n",
        "\n",
        "Python is the name of the coding language/style we're using here, but the other ones are all pretty similar. The app we just made was in JAVASCRIPT, for instance. That's just another coding language. They can all do mostly the same stuff, but some are faster for certain kinds of tasks. There are no wrong answers.\n",
        "\n",
        "Here, you're creating a VARIABLE. You've got this number (whatever 24 times 60 times 60 equals), and you don't want to have to write 24 times 60 times 60 over and over, so you just say, \"Okay, I'm going to use the phrase seconds_in_a_day to mean 24 times 60 times 60. Voila! You've made a variable. It's called that because it could have been anything. You could have set seconds_in_a_day equal to 85 times 90. Or you could have set it equal to Cats ('Cats' is what we call a STRING - strings are words and sentences, things we don't want the program to treat like math problems - we just want it to print them out, exactly like we typed them in)."
      ]
    },
    {
      "cell_type": "code",
      "metadata": {
        "id": "zANqjo0-BiYz"
      },
      "source": [
        "seconds_in_a_day = 24 * 60 * 60"
      ],
      "execution_count": null,
      "outputs": []
    },
    {
      "cell_type": "markdown",
      "metadata": {
        "id": "zEv6CgkJDhVI"
      },
      "source": [
        "The box with the code in it can RUN whatever you typed in it. Go ahead and hit the play arrow at the left, and it will try to do whatever you typed in (in this case it's setting the meaning of the variable seconds_in_a_day.\n",
        "\n",
        "I know, when you run it, nothing happens, right?! But wait. There's more. Now run this one below."
      ]
    },
    {
      "cell_type": "code",
      "metadata": {
        "id": "oJm6ZCMuD6tu",
        "colab": {
          "base_uri": "https://localhost:8080/",
          "height": 34
        },
        "outputId": "a04ba94c-1cfd-477c-f11a-d42abb38bf68"
      },
      "source": [
        "seconds_in_a_day"
      ],
      "execution_count": null,
      "outputs": [
        {
          "output_type": "execute_result",
          "data": {
            "text/plain": [
              "86400"
            ]
          },
          "metadata": {
            "tags": []
          },
          "execution_count": 10
        }
      ]
    },
    {
      "cell_type": "markdown",
      "metadata": {
        "id": "kamnshAoD9Zj"
      },
      "source": [
        "WHAT?! Amazing. When you type in a variable and run the code, it's going to print out the output.\n",
        "\n",
        "Okay, here we're setting another variable, and then we have it print out the meaning to make sure it looks right. Go ahead and run the code cell."
      ]
    },
    {
      "cell_type": "code",
      "metadata": {
        "id": "ZIDOarmjEJIx",
        "colab": {
          "base_uri": "https://localhost:8080/",
          "height": 34
        },
        "outputId": "c1937c27-d062-4755-cd2d-c80819f6c63b"
      },
      "source": [
        "cat_list = ['Spots','Spooky','Louie']\n",
        "cat_list"
      ],
      "execution_count": null,
      "outputs": [
        {
          "output_type": "execute_result",
          "data": {
            "text/plain": [
              "['Spots', 'Spooky', 'Louie']"
            ]
          },
          "metadata": {
            "tags": []
          },
          "execution_count": 3
        }
      ]
    },
    {
      "cell_type": "markdown",
      "metadata": {
        "id": "bfIbK6BqEr-F"
      },
      "source": [
        "This one is a LIST. In fact it's a list of names of cats, so it's a LIST of STRINGS! Pretty cool. You can store a lot of stuff as one variable like this.\n",
        "\n",
        "Try making your own list in the cell below."
      ]
    },
    {
      "cell_type": "code",
      "metadata": {
        "id": "0ufr70YRE6fq",
        "colab": {
          "base_uri": "https://localhost:8080/",
          "height": 34
        },
        "outputId": "5a19b580-b317-4dce-a212-5310152dfe04"
      },
      "source": [
        "griseldas_cats = ['Snow','Sam','Sal']\n",
        "griseldas_cats"
      ],
      "execution_count": null,
      "outputs": [
        {
          "output_type": "execute_result",
          "data": {
            "text/plain": [
              "['Snow', 'Sam', 'Sal']"
            ]
          },
          "metadata": {
            "tags": []
          },
          "execution_count": 4
        }
      ]
    },
    {
      "cell_type": "markdown",
      "metadata": {
        "id": "-owK6EiyFN4W"
      },
      "source": [
        "So, what can we do with variables we make? ANYTHING!!! Variables are the ingredients for our recipes, they're the nouns.\n",
        "\n",
        "The verbs are FUNCTIONS. We can make our own functions, but there are also lots of ones already out there for virtually anything you could want.\n",
        "\n",
        "Let's use division. That's a function. Run this cell and see what you get."
      ]
    },
    {
      "cell_type": "code",
      "metadata": {
        "id": "TtqQWYGXFnhQ"
      },
      "source": [
        "seconds_in_a_day_divided_by_13 = seconds_in_a_day/13"
      ],
      "execution_count": null,
      "outputs": []
    },
    {
      "cell_type": "markdown",
      "metadata": {
        "id": "8aBH-fY8F3-B"
      },
      "source": [
        "Wait - why didn't anything come out?! It's because we created a new variable (seconds_in_a_day_divided_by_13) that equals the number, so, if we want the answer, we need to CALL that variable (we call using variables calling them, like you're calling them up to get info from them). So go ahead and call seconds_in_a_day_divided_by_13 in the box below."
      ]
    },
    {
      "cell_type": "code",
      "metadata": {
        "id": "bbowSB33GUi3",
        "colab": {
          "base_uri": "https://localhost:8080/",
          "height": 34
        },
        "outputId": "8ddcad1e-8f55-4eb5-bc95-59c63a94d250"
      },
      "source": [
        "seconds_in_a_day_divided_by_13"
      ],
      "execution_count": null,
      "outputs": [
        {
          "output_type": "execute_result",
          "data": {
            "text/plain": [
              "6646.153846153846"
            ]
          },
          "metadata": {
            "tags": []
          },
          "execution_count": 6
        }
      ]
    },
    {
      "cell_type": "markdown",
      "metadata": {
        "id": "HU4LWLFoGXB7"
      },
      "source": [
        "Did it work? If not, check out the ones we called before and see what looks different. Tweak stuff and keep running it til you get what you want.\n",
        "\n",
        "Okay, so we saw a pretty boring function. But functions don't have to be math stuff. Remember the cat names? Those were all capitalized. But what if I want a list of all my cat names that is lower case? There's a function for that. Try it out."
      ]
    },
    {
      "cell_type": "code",
      "metadata": {
        "id": "ElmPZ1OQGgix",
        "colab": {
          "base_uri": "https://localhost:8080/",
          "height": 34
        },
        "outputId": "9809e5ce-1a0b-48fc-ab53-c7402adbd65e"
      },
      "source": [
        "cat_list_lower_case = [x.lower() for x in cat_list]\n",
        "cat_list_lower_case\n",
        "\n",
        "griseldas_cat_list_lower_case = [x.lower() for x in griseldas_cats]\n",
        "griseldas_cat_list_lower_case\n",
        "# [x.lower()['x.lowerfelix','x.lowerfancy','x.lowerfatima']"
      ],
      "execution_count": null,
      "outputs": [
        {
          "output_type": "execute_result",
          "data": {
            "text/plain": [
              "['snow', 'sam', 'sal']"
            ]
          },
          "metadata": {
            "tags": []
          },
          "execution_count": 11
        }
      ]
    },
    {
      "cell_type": "markdown",
      "metadata": {
        "id": "yClJOwdOHK2N"
      },
      "source": [
        "How did we know that typing x.lower for x in cat list would get us what we wanted? Well, I did a google search for 'python lowercase list'. The first result is this Stack Overflow page: https://stackoverflow.com/questions/1801668/convert-a-python-list-with-strings-all-to-lowercase-or-uppercase. So I just copy and pasted the way that people said it would work, and replaced their list variable name with my list variable name. Awesome.\n",
        "\n",
        "That's it for now. You can change anything and everything typed in here to see what you can get it to do. Or, you can make new Colab \"notebooks\" and try out making things from scratch.\n",
        "\n",
        "As always, ask any and every question that comes up. There's no learning without having questions : )"
      ]
    }
  ]
}